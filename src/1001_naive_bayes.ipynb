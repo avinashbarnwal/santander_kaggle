{
 "cells": [
  {
   "cell_type": "code",
   "execution_count": null,
   "metadata": {},
   "outputs": [],
   "source": [
    "import numpy             as np, pandas as pd \n",
    "import matplotlib.pyplot as plt\n",
    "import seaborn  as sns\n",
    "import lightgbm as lgb\n",
    "from   sklearn.model_selection import KFold, StratifiedKFold\n",
    "import warnings\n",
    "import gc\n",
    "import time\n",
    "import sys\n",
    "import datetime\n",
    "import matplotlib.pyplot as plt\n",
    "import seaborn           as sns\n",
    "from   sklearn.metrics   import mean_squared_error\n",
    "import utils\n",
    "from   sklearn           import metrics\n",
    "import matplotlib\n",
    "from   woe               import WOE\n",
    "import matplotlib.pyplot as plt\n",
    "import seaborn           as sns\n",
    "import warnings\n",
    "warnings.simplefilter(action='ignore', category=FutureWarning)\n",
    "warnings.filterwarnings('ignore')\n",
    "\n",
    "plt.style.use('seaborn')\n",
    "sns.set(font_scale=1)\n",
    "pd.set_option('display.max_columns', 500)"
   ]
  },
  {
   "cell_type": "code",
   "execution_count": null,
   "metadata": {},
   "outputs": [],
   "source": [
    "path        = '../data/input/input_pkl/train/'\n",
    "train       = utils.read_pickles(path)"
   ]
  },
  {
   "cell_type": "code",
   "execution_count": null,
   "metadata": {},
   "outputs": [],
   "source": [
    "path        = '../data/input/input_pkl/test/'\n",
    "test        = utils.read_pickles(path)"
   ]
  },
  {
   "cell_type": "code",
   "execution_count": null,
   "metadata": {},
   "outputs": [],
   "source": [
    "target = train.target.values\n",
    "train.drop('target', axis=1, inplace=True)\n",
    "train.shape, target.shape, test.shape"
   ]
  },
  {
   "cell_type": "code",
   "execution_count": null,
   "metadata": {},
   "outputs": [],
   "source": [
    "pos_idx = (target == 1)\n",
    "neg_idx = (target == 0)\n",
    "stats = []\n",
    "for col in train.columns:\n",
    "    stats.append([\n",
    "        train.loc[pos_idx, col].mean(),\n",
    "        train.loc[pos_idx, col].std(),\n",
    "        train.loc[neg_idx, col].mean(),\n",
    "        train.loc[neg_idx, col].std()\n",
    "    ])\n",
    "    \n",
    "stats_df = pd.DataFrame(stats, columns=['pos_mean', 'pos_sd', 'neg_mean', 'neg_sd'])\n",
    "stats_df.head()"
   ]
  },
  {
   "cell_type": "code",
   "execution_count": null,
   "metadata": {},
   "outputs": [],
   "source": [
    "# priori probability\n",
    "ppos = pos_idx.sum() / len(pos_idx)\n",
    "pneg = neg_idx.sum() / len(neg_idx)\n",
    "\n",
    "def get_proba(x):\n",
    "    # we use odds P(target=1|X=x)/P(target=0|X=x)\n",
    "    return (ppos * norm.pdf(x, loc=stats_df.pos_mean, scale=stats_df.pos_sd).prod()) /\\\n",
    "           (pneg * norm.pdf(x, loc=stats_df.neg_mean, scale=stats_df.neg_sd).prod())"
   ]
  },
  {
   "cell_type": "code",
   "execution_count": null,
   "metadata": {},
   "outputs": [],
   "source": [
    "tr_pred = train.apply(get_proba, axis=1)"
   ]
  },
  {
   "cell_type": "code",
   "execution_count": null,
   "metadata": {},
   "outputs": [],
   "source": [
    "from sklearn.metrics import roc_auc_score\n",
    "roc_auc_score(target, tr_pred)"
   ]
  },
  {
   "cell_type": "code",
   "execution_count": null,
   "metadata": {},
   "outputs": [],
   "source": [
    "from scipy.stats.kde import gaussian_kde"
   ]
  },
  {
   "cell_type": "code",
   "execution_count": null,
   "metadata": {},
   "outputs": [],
   "source": [
    "plt.figure(figsize=(20, 10))\n",
    "plt.subplot(1, 2, 1)\n",
    "sns.distplot(train.loc[pos_idx, 'var_0'])\n",
    "kde = gaussian_kde(train.loc[pos_idx, 'var_0'].values)\n",
    "plt.plot(np.linspace(0, 20), kde(np.linspace(0, 20)))\n",
    "plt.title('target==1')\n",
    "plt.subplot(1, 2, 2)\n",
    "sns.distplot(train.loc[neg_idx, 'var_0'])\n",
    "kde = gaussian_kde(train.loc[neg_idx, 'var_0'].values)\n",
    "plt.plot(np.linspace(0, 20), kde(np.linspace(0, 20)))\n",
    "plt.title('target==0')"
   ]
  },
  {
   "cell_type": "code",
   "execution_count": null,
   "metadata": {},
   "outputs": [],
   "source": [
    "stats_df['pos_kde'] = None\n",
    "stats_df['neg_kde'] = None\n",
    "for i, col in enumerate(train.columns):\n",
    "    stats_df.loc[i, 'pos_kde'] = gaussian_kde(train.loc[pos_idx, col].values)\n",
    "    stats_df.loc[i, 'neg_kde'] = gaussian_kde(train.loc[neg_idx, col].values)"
   ]
  },
  {
   "cell_type": "code",
   "execution_count": null,
   "metadata": {},
   "outputs": [],
   "source": [
    "def get_proba2(x):\n",
    "    proba = ppos / pneg\n",
    "    for i in range(200):\n",
    "        proba *= stats_df.loc[i, 'pos_kde'](x[i]) / stats_df.loc[i, 'neg_kde'](x[i])\n",
    "    return proba"
   ]
  },
  {
   "cell_type": "code",
   "execution_count": null,
   "metadata": {},
   "outputs": [],
   "source": [
    "slow, we can speed up by binize the variable values.\n",
    "\n",
    "def get_col_prob(df, coli, bin_num=100):\n",
    "    bins = pd.cut(df.iloc[:, coli].values, bins=bin_num)\n",
    "    uniq = bins.unique()\n",
    "    uniq_mid = uniq.map(lambda x: (x.left + x.right) / 2)\n",
    "    dense = pd.DataFrame({\n",
    "        'pos': stats_df.loc[coli, 'pos_kde'](uniq_mid),\n",
    "        'neg': stats_df.loc[coli, 'neg_kde'](uniq_mid)\n",
    "    }, index=uniq)\n",
    "    return bins.map(dense.pos).astype(float) / bins.map(dense.neg).astype(float)"
   ]
  },
  {
   "cell_type": "code",
   "execution_count": null,
   "metadata": {},
   "outputs": [],
   "source": [
    "tr_pred = ppos / pneg\n",
    "for i in range(200):\n",
    "    tr_pred *= get_col_prob(train, i)"
   ]
  },
  {
   "cell_type": "code",
   "execution_count": null,
   "metadata": {},
   "outputs": [],
   "source": [
    "roc_auc_score(target, tr_pred)"
   ]
  },
  {
   "cell_type": "code",
   "execution_count": null,
   "metadata": {},
   "outputs": [],
   "source": [
    "te_pred = ppos / pneg\n",
    "for i in range(200):\n",
    "    te_pred *= get_col_prob(test, i)"
   ]
  },
  {
   "cell_type": "code",
   "execution_count": null,
   "metadata": {},
   "outputs": [],
   "source": [
    "pd.DataFrame({\n",
    "    'ID_code': test.index,\n",
    "    'target': te_pred\n",
    "}).to_csv('sub.csv', index=False)"
   ]
  },
  {
   "cell_type": "code",
   "execution_count": null,
   "metadata": {},
   "outputs": [],
   "source": [
    "Conclusion\n",
    "In this kernel we demonstrate how Naive bayes works, we build Gaussian Naive Bayes, which gives us 0.890 AUC. By remove Gaussian constrain and choosing more accurate kernel function, we can get better performance.\n",
    "\n",
    "Holp this can help, thanks!"
   ]
  }
 ],
 "metadata": {
  "kernelspec": {
   "display_name": "Python 3",
   "language": "python",
   "name": "python3"
  },
  "language_info": {
   "codemirror_mode": {
    "name": "ipython",
    "version": 3
   },
   "file_extension": ".py",
   "mimetype": "text/x-python",
   "name": "python",
   "nbconvert_exporter": "python",
   "pygments_lexer": "ipython3",
   "version": "3.7.3"
  }
 },
 "nbformat": 4,
 "nbformat_minor": 2
}
