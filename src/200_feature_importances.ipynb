{
 "cells": [
  {
   "cell_type": "code",
   "execution_count": 1,
   "metadata": {},
   "outputs": [
    {
     "name": "stderr",
     "output_type": "stream",
     "text": [
      "/usr/local/lib/python3.6/site-packages/sklearn/ensemble/weight_boosting.py:29: DeprecationWarning: numpy.core.umath_tests is an internal NumPy module and should not be imported. It will be removed in a future NumPy release.\n",
      "  from numpy.core.umath_tests import inner1d\n"
     ]
    }
   ],
   "source": [
    "import numpy as np\n",
    "import pandas as pd\n",
    "import datetime\n",
    "import gc\n",
    "import matplotlib\n",
    "import matplotlib.pyplot as plt\n",
    "import seaborn as sns\n",
    "import lightgbm as lgb\n",
    "from   sklearn.linear_model import BayesianRidge\n",
    "from   sklearn.model_selection import StratifiedKFold,RepeatedKFold\n",
    "from   sklearn.metrics import mean_squared_error\n",
    "from   sklearn.ensemble import RandomTreesEmbedding\n",
    "import utils\n",
    "import tqdm\n",
    "import pickle\n",
    "import multiprocessing as mp\n",
    "import time\n",
    "import math\n",
    "import warnings\n",
    "import matplotlib.gridspec as gridspec\n",
    "import scipy.stats as st\n",
    "import statsmodels as sm\n",
    "warnings.filterwarnings('ignore')\n",
    "\n",
    "from scipy.stats import ks_2samp\n",
    "np.random.seed(0)\n",
    "\n",
    "%matplotlib inline\n",
    "\n",
    "#matplotlib.rcParams['figure.figsize'] = (20, 5)\n",
    "\n",
    "matplotlib.style.use('ggplot')"
   ]
  },
  {
   "cell_type": "code",
   "execution_count": 2,
   "metadata": {},
   "outputs": [
    {
     "name": "stderr",
     "output_type": "stream",
     "text": [
      "100%|██████████| 5/5 [00:00<00:00, 12.12it/s]\n"
     ]
    }
   ],
   "source": [
    "train_path   = '../data/input/input_pkl/train/'\n",
    "df_train     = utils.read_pickles(train_path)"
   ]
  },
  {
   "cell_type": "code",
   "execution_count": 3,
   "metadata": {},
   "outputs": [
    {
     "name": "stderr",
     "output_type": "stream",
     "text": [
      "100%|██████████| 5/5 [00:00<00:00, 15.68it/s]\n"
     ]
    }
   ],
   "source": [
    "test_path   = '../data/input/input_pkl/test/'\n",
    "df_test     = utils.read_pickles(test_path)"
   ]
  },
  {
   "cell_type": "code",
   "execution_count": 12,
   "metadata": {},
   "outputs": [],
   "source": [
    "def get_feature_importances(data,i,shuffle,seed=None):\n",
    "    \n",
    "    # Gather real features\n",
    "    \n",
    "    param = {\n",
    "        'bagging_freq': 5,\n",
    "        'bagging_fraction': 0.4,\n",
    "        'boost_from_average':'false',\n",
    "        'boost': 'gbdt',\n",
    "        'feature_fraction': 0.05,\n",
    "        'learning_rate': 0.01,\n",
    "        'max_depth': -1,  \n",
    "        'metric':'auc',\n",
    "        'min_data_in_leaf': 80,\n",
    "        'min_sum_hessian_in_leaf': 10.0,\n",
    "        'num_leaves': 13,\n",
    "        'num_threads': 8,\n",
    "        'tree_learner': 'serial',\n",
    "        'objective': 'binary', \n",
    "        'verbosity': 1\n",
    "    }\n",
    "    \n",
    "    train_columns = [c for c in df_train.columns if c not in ['ID_code', 'target']]\n",
    "    target        = df_train['target']\n",
    "\n",
    "    # Go over fold and keep track of CV score (train and valid) and feature importances\n",
    "    \n",
    "    # Shuffle target if required\n",
    "    y = target.copy()\n",
    "    if shuffle:\n",
    "        # Here you could as well use a binomial distribution\n",
    "        y = data['target'].copy().sample(frac=1.0)\n",
    "    \n",
    "    # Fit LightGBM in RF mode, yes it's quicker than sklearn RandomForest\n",
    "    dtrain = lgb.Dataset(data[train_columns], y, free_raw_data=False, silent=True)\n",
    "    \n",
    "    # Fit the model\n",
    "    clf = lgb.train(params=param,\n",
    "                    train_set=dtrain,\n",
    "                   # categorical_feature=categorical_feats\n",
    "                   )\n",
    "\n",
    "    # Get feature importances\n",
    "    imp_df                     = pd.DataFrame()\n",
    "    imp_df[\"feature\"]          = list(train_columns)\n",
    "    imp_df[\"importance_gain\"]  = clf.feature_importance(importance_type='gain')\n",
    "    imp_df[\"importance_split\"] = clf.feature_importance(importance_type='split')\n",
    "    imp_df['trn_score']        = mean_squared_error(clf.predict(data[train_columns]), y)**0.5\n",
    "    imp_df['run']              = i\n",
    "    \n",
    "    return imp_df"
   ]
  },
  {
   "cell_type": "code",
   "execution_count": 13,
   "metadata": {},
   "outputs": [],
   "source": [
    "# Get the actual importance, i.e. without shuffling\n",
    "actual_imp_df = get_feature_importances(data=df_train,i=0,shuffle=False)"
   ]
  },
  {
   "cell_type": "code",
   "execution_count": null,
   "metadata": {},
   "outputs": [],
   "source": [
    "def creation_null_imp_data(df_train,start_run,interval):\n",
    "    \n",
    "    parent_data = {}\n",
    "    \n",
    "    for i in range(start_run,start_run+interval):\n",
    "        parent_data[i] = df_train\n",
    "\n",
    "    start      = time.time()\n",
    "    mp_pool    = mp.Pool()\n",
    "    runs       = interval\n",
    "    \n",
    "    res1       = mp_pool.starmap(get_feature_importances,zip(parent_data.values(),parent_data.keys(),np.repeat(True,runs)))\n",
    "    \n",
    "    mp_pool.close()\n",
    "    mp_pool.join()\n",
    "    \n",
    "    time_taken  = (time.time()-start)/60\n",
    "\n",
    "    null_imp_df = pd.DataFrame()\n",
    "\n",
    "    for i in range(interval):\n",
    "        null_imp_df = pd.concat([null_imp_df,res1[i]],axis=0)\n",
    "        \n",
    "    print(time_taken)\n",
    "    \n",
    "    return null_imp_df"
   ]
  }
 ],
 "metadata": {
  "kernelspec": {
   "display_name": "Python 3",
   "language": "python",
   "name": "python3"
  },
  "language_info": {
   "codemirror_mode": {
    "name": "ipython",
    "version": 3
   },
   "file_extension": ".py",
   "mimetype": "text/x-python",
   "name": "python",
   "nbconvert_exporter": "python",
   "pygments_lexer": "ipython3",
   "version": "3.6.5"
  }
 },
 "nbformat": 4,
 "nbformat_minor": 2
}
