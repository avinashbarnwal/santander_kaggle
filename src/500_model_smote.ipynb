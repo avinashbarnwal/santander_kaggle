{
 "cells": [
  {
   "cell_type": "code",
   "execution_count": 1,
   "metadata": {},
   "outputs": [],
   "source": [
    "import numpy                  as np\n",
    "import pandas                 as pd\n",
    "import lightgbm               as lgb\n",
    "from   sklearn.metrics          import mean_squared_error\n",
    "from   sklearn.metrics          import roc_auc_score\n",
    "from   sklearn.model_selection  import StratifiedKFold\n",
    "import utils\n",
    "import warnings\n",
    "warnings.filterwarnings('ignore')"
   ]
  },
  {
   "cell_type": "markdown",
   "metadata": {},
   "source": [
    "**Resampling Techniques**\n",
    "\n",
    "***Undersampling Techniques***\n",
    "\n",
    "Random Undersampling  \n",
    "Tomek Links  \n",
    "AllKNN  \n",
    "ENN (Edited Nearest Neighbours)  \n",
    "\n",
    "***Oversampling Techniques***\n",
    "\n",
    "Random Oversampling  \n",
    "ADASYN (Adaptive Synthetic Sampling)    \n",
    "SMOTE (Synthetic Minority Over-Sampling Technique)  \n",
    "\n",
    "***Combined Resampling***\n",
    "\n",
    "SMOTETomek  \n",
    "SMOTEENN  "
   ]
  },
  {
   "cell_type": "code",
   "execution_count": null,
   "metadata": {},
   "outputs": [],
   "source": []
  }
 ],
 "metadata": {
  "kernelspec": {
   "display_name": "Python 3",
   "language": "python",
   "name": "python3"
  },
  "language_info": {
   "codemirror_mode": {
    "name": "ipython",
    "version": 3
   },
   "file_extension": ".py",
   "mimetype": "text/x-python",
   "name": "python",
   "nbconvert_exporter": "python",
   "pygments_lexer": "ipython3",
   "version": "3.6.5"
  }
 },
 "nbformat": 4,
 "nbformat_minor": 2
}
