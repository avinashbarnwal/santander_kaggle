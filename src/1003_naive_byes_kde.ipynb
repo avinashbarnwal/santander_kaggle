{
 "cells": [
  {
   "cell_type": "code",
   "execution_count": 9,
   "metadata": {},
   "outputs": [],
   "source": [
    "from sklearn.base import BaseEstimator, ClassifierMixin\n",
    "from sklearn      import datasets\n",
    "import numpy      as np\n",
    "from sklearn.neighbors import KernelDensity\n",
    "from sklearn.grid_search import GridSearchCV"
   ]
  },
  {
   "cell_type": "code",
   "execution_count": 15,
   "metadata": {},
   "outputs": [],
   "source": [
    "class KDEClassifier(BaseEstimator, ClassifierMixin):\n",
    "    \n",
    "    \"\"\"Bayesian generative classification based on KDE\n",
    "    \n",
    "    Parameters\n",
    "    ----------\n",
    "    bandwidth : float\n",
    "        the kernel bandwidth within each class\n",
    "    kernel : str\n",
    "        the kernel name, passed to KernelDensity\n",
    "    \"\"\"\n",
    "    \n",
    "    def __init__(self, bandwidth=1.0, kernel='gaussian'):\n",
    "        self.bandwidth = bandwidth\n",
    "        self.kernel    = kernel\n",
    "        \n",
    "    def fit(self, X, y):\n",
    "        \n",
    "        self.classes_   = np.sort(np.unique(y))\n",
    "        training_sets   = [X[y == yi] for yi in self.classes_]\n",
    "        self.models_    = [KernelDensity(bandwidth=self.bandwidth,\n",
    "                                      kernel=self.kernel).fit(Xi)\n",
    "                           for Xi in training_sets]\n",
    "        \n",
    "        self.logpriors_ = [np.log(Xi.shape[0] / X.shape[0])\n",
    "                           for Xi in training_sets]\n",
    "\n",
    "        return self\n",
    "    \n",
    "    def each_prior_prob(self,x,X,y,k):\n",
    "        \n",
    "        dist          = [np.linalg.norm(x-xi) for xi in  X]\n",
    "        anchor_k      = sorted(dist)[k]\n",
    "        dist_adj_k    = dist/anchor_k\n",
    "        weight_k      = list(map(lambda x: 0 if x >= 1 else 1- x,dist_adj_k))\n",
    "        indicator     = [y==i for i in set(y)]\n",
    "\n",
    "        n             = len(set(y))\n",
    "        indic_weight  = [indicator[i]*weight_k for i in range(n)]\n",
    "        new           = np.hstack([np.expand_dims(indic_weight[0], axis=1), np.expand_dims(indic_weight[1], axis=1)])\n",
    "\n",
    "        if n >2:\n",
    "            for i in range(2,n):\n",
    "                new       = np.hstack([new, np.expand_dims(indic_weight[i], axis=1)])\n",
    "                \n",
    "        prob_weight       = [sum(new[:,i]) for i in range(n)]\n",
    "        weight_sum        = sum(weight_k)\n",
    "        log_prob_prior    = np.log(list(map(lambda x: 0+0.000001 if x==0 else x/weight_sum,prob_weight)))\n",
    "        \n",
    "        return log_prob_prior\n",
    "    \n",
    "    \n",
    "    def prior_prob_fit(X_test,X_train,y,k):\n",
    "    \n",
    "        n = len(set(y))\n",
    "        prior_prob        = np.zeros((X_test.shape[0],n),dtype=np.float32)\n",
    "    \n",
    "        for i in range(X_test.shape[0]):\n",
    "            prior_prob[i] = each_prior_prob(X_test[i],X_train,y_train,k)\n",
    "            \n",
    "        return prior_prob\n",
    "    \n",
    "        \n",
    "        \n",
    "    def predict_proba(self, X):\n",
    "        \n",
    "        logprobs = np.array([model.score_samples(X)\n",
    "                             for model in self.models_]).T\n",
    "        \n",
    "        result = np.exp(logprobs + self.logpriors_)\n",
    "       \n",
    "        return result / result.sum(1, keepdims=True)\n",
    "        \n",
    "    def predict(self, X):\n",
    "        return self.classes_[np.argmax(self.predict_proba(X), 1)]"
   ]
  },
  {
   "cell_type": "code",
   "execution_count": 16,
   "metadata": {},
   "outputs": [],
   "source": [
    "from sklearn.model_selection import  train_test_split\n",
    "iris = datasets.load_iris()"
   ]
  },
  {
   "cell_type": "code",
   "execution_count": 17,
   "metadata": {},
   "outputs": [],
   "source": [
    "X_train, X_test, y_train, y_test = train_test_split(iris.data, iris.target, test_size=0.33, random_state=42)"
   ]
  },
  {
   "cell_type": "code",
   "execution_count": 18,
   "metadata": {},
   "outputs": [],
   "source": [
    "bandwidths = 10 ** np.linspace(0, 2, 100)\n",
    "grid       = GridSearchCV(KDEClassifier(), {'bandwidth': bandwidths})"
   ]
  },
  {
   "cell_type": "code",
   "execution_count": 19,
   "metadata": {},
   "outputs": [
    {
     "data": {
      "text/plain": [
       "GridSearchCV(cv=None, error_score='raise',\n",
       "       estimator=KDEClassifier(bandwidth=1.0, kernel='gaussian'),\n",
       "       fit_params={}, iid=True, n_jobs=1,\n",
       "       param_grid={'bandwidth': array([  1.     ,   1.04762, ...,  95.45485, 100.     ])},\n",
       "       pre_dispatch='2*n_jobs', refit=True, scoring=None, verbose=0)"
      ]
     },
     "execution_count": 19,
     "metadata": {},
     "output_type": "execute_result"
    }
   ],
   "source": [
    "grid.fit(X_train, y_train)"
   ]
  },
  {
   "cell_type": "code",
   "execution_count": 20,
   "metadata": {},
   "outputs": [],
   "source": [
    "scores     = [val.mean_validation_score for val in grid.grid_scores_]"
   ]
  },
  {
   "cell_type": "code",
   "execution_count": 21,
   "metadata": {},
   "outputs": [
    {
     "data": {
      "text/plain": [
       "[0.9,\n",
       " 0.89,\n",
       " 0.89,\n",
       " 0.89,\n",
       " 0.89,\n",
       " 0.89,\n",
       " 0.89,\n",
       " 0.89,\n",
       " 0.88,\n",
       " 0.88,\n",
       " 0.87,\n",
       " 0.87,\n",
       " 0.87,\n",
       " 0.87,\n",
       " 0.87,\n",
       " 0.87,\n",
       " 0.87,\n",
       " 0.87,\n",
       " 0.87,\n",
       " 0.87,\n",
       " 0.87,\n",
       " 0.88,\n",
       " 0.87,\n",
       " 0.88,\n",
       " 0.87,\n",
       " 0.87,\n",
       " 0.87,\n",
       " 0.87,\n",
       " 0.86,\n",
       " 0.86,\n",
       " 0.86,\n",
       " 0.86,\n",
       " 0.86,\n",
       " 0.86,\n",
       " 0.84,\n",
       " 0.83,\n",
       " 0.83,\n",
       " 0.8,\n",
       " 0.78,\n",
       " 0.73,\n",
       " 0.65,\n",
       " 0.57,\n",
       " 0.56,\n",
       " 0.5,\n",
       " 0.47,\n",
       " 0.46,\n",
       " 0.43,\n",
       " 0.42,\n",
       " 0.42,\n",
       " 0.42,\n",
       " 0.42,\n",
       " 0.42,\n",
       " 0.42,\n",
       " 0.42,\n",
       " 0.42,\n",
       " 0.42,\n",
       " 0.42,\n",
       " 0.42,\n",
       " 0.42,\n",
       " 0.42,\n",
       " 0.42,\n",
       " 0.42,\n",
       " 0.42,\n",
       " 0.42,\n",
       " 0.42,\n",
       " 0.42,\n",
       " 0.42,\n",
       " 0.42,\n",
       " 0.42,\n",
       " 0.42,\n",
       " 0.42,\n",
       " 0.42,\n",
       " 0.42,\n",
       " 0.42,\n",
       " 0.42,\n",
       " 0.42,\n",
       " 0.42,\n",
       " 0.42,\n",
       " 0.42,\n",
       " 0.42,\n",
       " 0.42,\n",
       " 0.42,\n",
       " 0.42,\n",
       " 0.42,\n",
       " 0.42,\n",
       " 0.42,\n",
       " 0.42,\n",
       " 0.42,\n",
       " 0.42,\n",
       " 0.42,\n",
       " 0.42,\n",
       " 0.42,\n",
       " 0.42,\n",
       " 0.42,\n",
       " 0.42,\n",
       " 0.42,\n",
       " 0.42,\n",
       " 0.42,\n",
       " 0.42,\n",
       " 0.42]"
      ]
     },
     "execution_count": 21,
     "metadata": {},
     "output_type": "execute_result"
    }
   ],
   "source": [
    "scores"
   ]
  }
 ],
 "metadata": {
  "kernelspec": {
   "display_name": "Python 3",
   "language": "python",
   "name": "python3"
  },
  "language_info": {
   "codemirror_mode": {
    "name": "ipython",
    "version": 3
   },
   "file_extension": ".py",
   "mimetype": "text/x-python",
   "name": "python",
   "nbconvert_exporter": "python",
   "pygments_lexer": "ipython3",
   "version": "3.6.5"
  }
 },
 "nbformat": 4,
 "nbformat_minor": 2
}
