{
 "cells": [
  {
   "cell_type": "code",
   "execution_count": 1,
   "metadata": {},
   "outputs": [],
   "source": [
    "import pandas as pd"
   ]
  },
  {
   "cell_type": "code",
   "execution_count": 6,
   "metadata": {},
   "outputs": [],
   "source": [
    "df_0_898   = pd.read_csv(\"0.898.csv\")\n",
    "df_0_899   = pd.read_csv(\"0.899.csv\")\n",
    "df_0_899_1 = pd.read_csv(\"0.899_1.csv\")\n",
    "df_0_899_2 = pd.read_csv(\"submission.csv\")"
   ]
  },
  {
   "cell_type": "code",
   "execution_count": 3,
   "metadata": {},
   "outputs": [],
   "source": [
    "df_0_898.rename(columns={'target':'target_898'},inplace=True)\n",
    "df_0_899.rename(columns={'target':'target_899'},inplace=True)\n",
    "df_0_899_1.rename(columns={'target':'target_899_1'},inplace=True)\n",
    "df_0_899_2.rename(columns={'target':'target_899_2'},inplace=True)"
   ]
  },
  {
   "cell_type": "code",
   "execution_count": 7,
   "metadata": {},
   "outputs": [],
   "source": [
    "df_base = pd.merge(df_0_899,df_0_899_1,how='inner',on='ID_code')\n",
    "df_base = pd.merge(df_base,df_0_899_2,how='inner',on='ID_code')"
   ]
  },
  {
   "cell_type": "code",
   "execution_count": 9,
   "metadata": {},
   "outputs": [],
   "source": [
    "#df_base['target'] = (df_base['target_898'] + df_base['target_899'] + df_base['target_899_1'])/3\n",
    "df_base['target'] = (df_base['target_899'] + df_base['target_899_2'])/2"
   ]
  },
  {
   "cell_type": "code",
   "execution_count": 10,
   "metadata": {},
   "outputs": [],
   "source": [
    "df_base[['ID_code','target']].to_csv(\"blend_4.csv\")"
   ]
  },
  {
   "cell_type": "code",
   "execution_count": 10,
   "metadata": {},
   "outputs": [],
   "source": [
    "df_kernelpca_lgb = pd.read_csv(\"../result/submission_kernelpca_lgb.csv\")\n",
    "df_augment_lgb   = pd.read_csv(\"../result/submission_augment_lgb.csv\")\n",
    "df_magic_lgb   = pd.read_csv(\"../result/submission_magic_lgb.csv\")"
   ]
  },
  {
   "cell_type": "code",
   "execution_count": 11,
   "metadata": {},
   "outputs": [],
   "source": [
    "df_kernelpca_lgb.rename(columns={'target':'targent_901_1'},inplace=True)\n",
    "df_augment_lgb.rename(columns={'target':'targent_901_2'},inplace=True)\n",
    "df_magic_lgb.rename(columns={'target':'targent_901_3'},inplace=True)"
   ]
  },
  {
   "cell_type": "code",
   "execution_count": 12,
   "metadata": {},
   "outputs": [],
   "source": [
    "df_base = pd.merge(df_kernelpca_lgb,df_augment_lgb,how='inner',on='ID_code')\n",
    "df_base = pd.merge(df_base,df_magic_lgb,how='inner',on='ID_code')"
   ]
  },
  {
   "cell_type": "code",
   "execution_count": 13,
   "metadata": {},
   "outputs": [],
   "source": [
    "df_base['target'] = (df_base['targent_901_1'] + df_base['targent_901_2'] + df_base['targent_901_3'])/3"
   ]
  },
  {
   "cell_type": "code",
   "execution_count": 14,
   "metadata": {},
   "outputs": [],
   "source": [
    "df_base[['ID_code','target']].to_csv(\"../result/blend_6.csv\")"
   ]
  }
 ],
 "metadata": {
  "kernelspec": {
   "display_name": "Python 3",
   "language": "python",
   "name": "python3"
  },
  "language_info": {
   "codemirror_mode": {
    "name": "ipython",
    "version": 3
   },
   "file_extension": ".py",
   "mimetype": "text/x-python",
   "name": "python",
   "nbconvert_exporter": "python",
   "pygments_lexer": "ipython3",
   "version": "3.6.5"
  }
 },
 "nbformat": 4,
 "nbformat_minor": 2
}
