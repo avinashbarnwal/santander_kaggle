{
 "cells": [
  {
   "cell_type": "code",
   "execution_count": null,
   "metadata": {},
   "outputs": [],
   "source": [
    "import os\n",
    "os.environ['CUDA_VISIBLE_DEVICES'] = '0'\n",
    "from sklearn.model_selection import KFold, StratifiedKFold\n",
    "from sklearn.metrics import roc_auc_score, log_loss\n",
    "import pandas as pd\n",
    "import numpy as np\n",
    "import time\n",
    "import random\n",
    "from tqdm import tqdm\n",
    "import warnings\n",
    "warnings.filterwarnings('ignore')\n",
    "\n",
    "import torch\n",
    "from torch import nn\n",
    "from torch.utils.data import TensorDataset\n",
    "from torch.utils.data import DataLoader\n",
    "\n",
    "MODEL_PATH = ''\n",
    "\n",
    "\n",
    "train_df = pd.read_csv('../input/santander-customer-transaction-prediction/train.csv',index_col='ID_code')\n",
    "test_df = pd.read_csv('../input/santander-customer-transaction-prediction/test.csv',index_col='ID_code')\n",
    "\n",
    "synthetic_indices = np.load('../input/synthetissantandersamples/synthetic_samples_indexes.npy')\n",
    "mask=np.full(len(test_df),True,dtype=bool)\n",
    "mask[synthetic_indices]=False\n",
    "test_df_nonsynthetic = test_df.iloc[mask].reset_index(drop=True).copy()\n",
    "\n",
    "\n",
    "y = train_df.pop('target')\n",
    "target = y\n",
    "\n",
    "tr_te = pd.concat([train_df,test_df])\n",
    "\n",
    "num_cols = [c for c in train_df.columns]\n",
    "\n",
    "for f in tqdm(num_cols):\n",
    "    tr_te[f+'_counts'] = tr_te[f].map(pd.concat([train_df[f], test_df_nonsynthetic[f]], axis=0).value_counts().to_dict(), na_action='ignore')\n",
    "    tr_te[f+'_counts'] = tr_te[f+'_counts'].fillna(1)\n",
    "\n",
    "\n",
    "count_cols = [f+'_counts' for f in num_cols]\n",
    "\n",
    "\n",
    "from scipy.special import erfinv\n",
    "from scipy.stats import rankdata\n",
    "\n",
    "def rankgauss(x):\n",
    "    r = (rankdata(x) - 1) / len(x)  # to [0,1]\n",
    "    r = 2 * r - 1  # to [-1,1]\n",
    "    r = np.clip(r, -0.99, 0.99)\n",
    "    r2 = erfinv(r)\n",
    "    return r2"
   ]
  },
  {
   "cell_type": "code",
   "execution_count": null,
   "metadata": {},
   "outputs": [],
   "source": []
  }
 ],
 "metadata": {
  "kernelspec": {
   "display_name": "Python 3",
   "language": "python",
   "name": "python3"
  },
  "language_info": {
   "codemirror_mode": {
    "name": "ipython",
    "version": 3
   },
   "file_extension": ".py",
   "mimetype": "text/x-python",
   "name": "python",
   "nbconvert_exporter": "python",
   "pygments_lexer": "ipython3",
   "version": "3.7.3"
  }
 },
 "nbformat": 4,
 "nbformat_minor": 2
}
