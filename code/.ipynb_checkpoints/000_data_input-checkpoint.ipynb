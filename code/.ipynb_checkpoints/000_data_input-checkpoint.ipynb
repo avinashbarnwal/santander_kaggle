{
 "cells": [
  {
   "cell_type": "code",
   "execution_count": 2,
   "metadata": {},
   "outputs": [],
   "source": [
    "import pandas as pd\n",
    "import datetime\n",
    "import utils\n",
    "import time\n",
    "import gc"
   ]
  },
  {
   "cell_type": "code",
   "execution_count": 3,
   "metadata": {},
   "outputs": [
    {
     "name": "stdout",
     "output_type": "stream",
     "text": [
      "Mem. usage decreased to 78.01 Mb (74.7% reduction)\n"
     ]
    }
   ],
   "source": [
    "df_train   = pd.read_csv(\"../data/input/input_csv/train.csv\")\n",
    "df_train   = utils.reduce_mem_usage(df_train)"
   ]
  },
  {
   "cell_type": "code",
   "execution_count": 3,
   "metadata": {},
   "outputs": [
    {
     "name": "stdout",
     "output_type": "stream",
     "text": [
      "Mem. usage decreased to 77.82 Mb (74.6% reduction)\n"
     ]
    }
   ],
   "source": [
    "df_test   = pd.read_csv(\"../data/input/input_csv/test.csv\")\n",
    "df_test   = utils.reduce_mem_usage(df_test)"
   ]
  },
  {
   "cell_type": "code",
   "execution_count": 8,
   "metadata": {},
   "outputs": [
    {
     "name": "stderr",
     "output_type": "stream",
     "text": [
      "5it [00:00,  5.23it/s]\n"
     ]
    }
   ],
   "source": [
    "path = '../data/input/input_pkl/train/'\n",
    "utils.to_pickles(df_train, path, split_size=5, inplace=True)"
   ]
  },
  {
   "cell_type": "code",
   "execution_count": 4,
   "metadata": {},
   "outputs": [
    {
     "name": "stderr",
     "output_type": "stream",
     "text": [
      "5it [00:01,  4.53it/s]\n"
     ]
    }
   ],
   "source": [
    "path = '../data/input/input_pkl/test/'\n",
    "utils.to_pickles(df_test, path, split_size=5, inplace=True)"
   ]
  }
 ],
 "metadata": {
  "kernelspec": {
   "display_name": "Python 3",
   "language": "python",
   "name": "python3"
  },
  "language_info": {
   "codemirror_mode": {
    "name": "ipython",
    "version": 3
   },
   "file_extension": ".py",
   "mimetype": "text/x-python",
   "name": "python",
   "nbconvert_exporter": "python",
   "pygments_lexer": "ipython3",
   "version": "3.6.5"
  }
 },
 "nbformat": 4,
 "nbformat_minor": 2
}
