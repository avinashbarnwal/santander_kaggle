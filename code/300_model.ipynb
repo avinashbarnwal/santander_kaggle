{
 "cells": [
  {
   "cell_type": "code",
   "execution_count": 3,
   "metadata": {},
   "outputs": [],
   "source": [
    "import numpy                  as np\n",
    "import pandas                 as pd\n",
    "import lightgbm               as lgb\n",
    "from sklearn.metrics          import mean_squared_error\n",
    "from sklearn.metrics          import roc_auc_score\n",
    "from sklearn.model_selection  import StratifiedKFold\n",
    "import utils\n",
    "import warnings\n",
    "warnings.filterwarnings('ignore')"
   ]
  },
  {
   "cell_type": "code",
   "execution_count": 4,
   "metadata": {},
   "outputs": [
    {
     "name": "stderr",
     "output_type": "stream",
     "text": [
      "100%|██████████| 5/5 [00:00<00:00, 11.64it/s]\n"
     ]
    }
   ],
   "source": [
    "train_path   = '../data/input/input_pkl/train/'\n",
    "df_train     = utils.read_pickles(train_path)"
   ]
  },
  {
   "cell_type": "code",
   "execution_count": 5,
   "metadata": {},
   "outputs": [
    {
     "name": "stderr",
     "output_type": "stream",
     "text": [
      "100%|██████████| 5/5 [00:00<00:00, 24.50it/s]\n"
     ]
    }
   ],
   "source": [
    "test_path   = '../data/input/input_pkl/test/'\n",
    "df_test     = utils.read_pickles(test_path)"
   ]
  },
  {
   "cell_type": "code",
   "execution_count": 6,
   "metadata": {},
   "outputs": [],
   "source": [
    "features = [c for c in df_train.columns if c not in ['ID_code', 'target']]\n",
    "target = df_train['target']"
   ]
  },
  {
   "cell_type": "code",
   "execution_count": 7,
   "metadata": {},
   "outputs": [],
   "source": [
    "param = {\n",
    "    'bagging_freq': 5,          'bagging_fraction': 0.335,   'boost_from_average':'false',   'boost': 'gbdt',\n",
    "    'feature_fraction': 0.041,   'learning_rate': 0.0083,     'max_depth': -1,                'metric':'auc',\n",
    "    'min_data_in_leaf': 80,     'min_sum_hessian_in_leaf': 10.0,'num_leaves': 13,           'num_threads': 8,\n",
    "    'tree_learner': 'serial',   'objective': 'binary',      'verbosity': 1\n",
    "}"
   ]
  },
  {
   "cell_type": "code",
   "execution_count": 9,
   "metadata": {},
   "outputs": [],
   "source": [
    "folds       = StratifiedKFold(n_splits=12, shuffle=False, random_state=44000)\n",
    "oof         = np.zeros(len(df_train))\n",
    "predictions = np.zeros(len(df_test))"
   ]
  },
  {
   "cell_type": "code",
   "execution_count": 12,
   "metadata": {},
   "outputs": [
    {
     "name": "stdout",
     "output_type": "stream",
     "text": [
      "Fold 0\n",
      "Training until validation scores don't improve for 4000 rounds.\n",
      "[5000]\ttraining's auc: 0.924808\tvalid_1's auc: 0.897552\n",
      "[10000]\ttraining's auc: 0.940315\tvalid_1's auc: 0.900713\n",
      "[15000]\ttraining's auc: 0.952888\tvalid_1's auc: 0.900801\n",
      "Early stopping, best iteration is:\n",
      "[14060]\ttraining's auc: 0.950667\tvalid_1's auc: 0.900968\n",
      "Fold 1\n",
      "Training until validation scores don't improve for 4000 rounds.\n",
      "[5000]\ttraining's auc: 0.924739\tvalid_1's auc: 0.89741\n",
      "[10000]\ttraining's auc: 0.940336\tvalid_1's auc: 0.899156\n",
      "[15000]\ttraining's auc: 0.953011\tvalid_1's auc: 0.899456\n",
      "Early stopping, best iteration is:\n",
      "[15365]\ttraining's auc: 0.953879\tvalid_1's auc: 0.899525\n",
      "Fold 2\n",
      "Training until validation scores don't improve for 4000 rounds.\n",
      "[5000]\ttraining's auc: 0.92554\tvalid_1's auc: 0.88936\n",
      "[10000]\ttraining's auc: 0.940936\tvalid_1's auc: 0.891233\n",
      "[15000]\ttraining's auc: 0.953506\tvalid_1's auc: 0.890813\n",
      "Early stopping, best iteration is:\n",
      "[11142]\ttraining's auc: 0.943941\tvalid_1's auc: 0.89133\n",
      "Fold 3\n",
      "Training until validation scores don't improve for 4000 rounds.\n",
      "[5000]\ttraining's auc: 0.924305\tvalid_1's auc: 0.903725\n",
      "[10000]\ttraining's auc: 0.940012\tvalid_1's auc: 0.905199\n",
      "[15000]\ttraining's auc: 0.952707\tvalid_1's auc: 0.905443\n",
      "Early stopping, best iteration is:\n",
      "[15154]\ttraining's auc: 0.953078\tvalid_1's auc: 0.905495\n",
      "Fold 4\n",
      "Training until validation scores don't improve for 4000 rounds.\n",
      "[5000]\ttraining's auc: 0.925257\tvalid_1's auc: 0.891611\n",
      "[10000]\ttraining's auc: 0.940717\tvalid_1's auc: 0.893662\n",
      "Early stopping, best iteration is:\n",
      "[10973]\ttraining's auc: 0.943338\tvalid_1's auc: 0.893802\n",
      "Fold 5\n",
      "Training until validation scores don't improve for 4000 rounds.\n",
      "[5000]\ttraining's auc: 0.924897\tvalid_1's auc: 0.89896\n",
      "[10000]\ttraining's auc: 0.94054\tvalid_1's auc: 0.900559\n",
      "Early stopping, best iteration is:\n",
      "[9372]\ttraining's auc: 0.938765\tvalid_1's auc: 0.90066\n",
      "Fold 6\n",
      "Training until validation scores don't improve for 4000 rounds.\n",
      "[5000]\ttraining's auc: 0.92455\tvalid_1's auc: 0.899739\n",
      "[10000]\ttraining's auc: 0.940282\tvalid_1's auc: 0.901244\n",
      "Early stopping, best iteration is:\n",
      "[9193]\ttraining's auc: 0.938006\tvalid_1's auc: 0.901394\n",
      "Fold 7\n",
      "Training until validation scores don't improve for 4000 rounds.\n",
      "[5000]\ttraining's auc: 0.924548\tvalid_1's auc: 0.902706\n",
      "[10000]\ttraining's auc: 0.94023\tvalid_1's auc: 0.903934\n",
      "Early stopping, best iteration is:\n",
      "[9958]\ttraining's auc: 0.940112\tvalid_1's auc: 0.903957\n",
      "Fold 8\n",
      "Training until validation scores don't improve for 4000 rounds.\n",
      "[5000]\ttraining's auc: 0.924938\tvalid_1's auc: 0.895324\n",
      "[10000]\ttraining's auc: 0.940486\tvalid_1's auc: 0.897875\n",
      "Early stopping, best iteration is:\n",
      "[10158]\ttraining's auc: 0.940934\tvalid_1's auc: 0.897896\n",
      "Fold 9\n",
      "Training until validation scores don't improve for 4000 rounds.\n",
      "[5000]\ttraining's auc: 0.924459\tvalid_1's auc: 0.901756\n",
      "[10000]\ttraining's auc: 0.940088\tvalid_1's auc: 0.90395\n",
      "[15000]\ttraining's auc: 0.952786\tvalid_1's auc: 0.903679\n",
      "Early stopping, best iteration is:\n",
      "[11522]\ttraining's auc: 0.944196\tvalid_1's auc: 0.904017\n",
      "Fold 10\n",
      "Training until validation scores don't improve for 4000 rounds.\n",
      "[5000]\ttraining's auc: 0.924473\tvalid_1's auc: 0.904522\n",
      "[10000]\ttraining's auc: 0.940126\tvalid_1's auc: 0.906825\n",
      "[15000]\ttraining's auc: 0.952833\tvalid_1's auc: 0.90664\n",
      "Early stopping, best iteration is:\n",
      "[11969]\ttraining's auc: 0.945389\tvalid_1's auc: 0.906992\n",
      "Fold 11\n",
      "Training until validation scores don't improve for 4000 rounds.\n",
      "[5000]\ttraining's auc: 0.925146\tvalid_1's auc: 0.89872\n",
      "[10000]\ttraining's auc: 0.940627\tvalid_1's auc: 0.900489\n",
      "Early stopping, best iteration is:\n",
      "[10089]\ttraining's auc: 0.940872\tvalid_1's auc: 0.900583\n"
     ]
    }
   ],
   "source": [
    "for fold_, (trn_idx, val_idx) in enumerate(folds.split(df_train.values, target.values)):\n",
    "    print(\"Fold {}\".format(fold_))\n",
    "    trn_data     = lgb.Dataset(df_train.iloc[trn_idx][features], label=target.iloc[trn_idx])\n",
    "    val_data     = lgb.Dataset(df_train.iloc[val_idx][features], label=target.iloc[val_idx])\n",
    "    clf          = lgb.train(param, trn_data, 1000000, valid_sets = [trn_data, val_data], verbose_eval=5000, early_stopping_rounds = 4000)\n",
    "    oof[val_idx] = clf.predict(df_train.iloc[val_idx][features], num_iteration=clf.best_iteration)\n",
    "    predictions += clf.predict(df_train[features], num_iteration=clf.best_iteration) / folds.n_splits"
   ]
  },
  {
   "cell_type": "code",
   "execution_count": 20,
   "metadata": {},
   "outputs": [],
   "source": [
    "utils.result_append('200_Model',roc_auc_score(target, oof),param,0.9,12,None)"
   ]
  },
  {
   "cell_type": "code",
   "execution_count": 23,
   "metadata": {},
   "outputs": [],
   "source": [
    "sub = pd.DataFrame({\"ID_code\": df_test.ID_code.values})\n",
    "sub[\"target\"] = predictions\n",
    "sub.to_csv(\"../result/submission.csv\", index=False)"
   ]
  }
 ],
 "metadata": {
  "kernelspec": {
   "display_name": "Python 3",
   "language": "python",
   "name": "python3"
  },
  "language_info": {
   "codemirror_mode": {
    "name": "ipython",
    "version": 3
   },
   "file_extension": ".py",
   "mimetype": "text/x-python",
   "name": "python",
   "nbconvert_exporter": "python",
   "pygments_lexer": "ipython3",
   "version": "3.6.5"
  }
 },
 "nbformat": 4,
 "nbformat_minor": 2
}
